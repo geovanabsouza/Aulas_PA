{
  "nbformat": 4,
  "nbformat_minor": 0,
  "metadata": {
    "colab": {
      "provenance": [],
      "authorship_tag": "ABX9TyNS9I82wCTs7Tr6JAKSAa0v",
      "include_colab_link": true
    },
    "kernelspec": {
      "name": "python3",
      "display_name": "Python 3"
    },
    "language_info": {
      "name": "python"
    }
  },
  "cells": [
    {
      "cell_type": "markdown",
      "metadata": {
        "id": "view-in-github",
        "colab_type": "text"
      },
      "source": [
        "<a href=\"https://colab.research.google.com/github/geovanabsouza/Aulas_PA/blob/main/DesafioTri%C3%A2nguloL%C3%B3gico.ipynb\" target=\"_parent\"><img src=\"https://colab.research.google.com/assets/colab-badge.svg\" alt=\"Open In Colab\"/></a>"
      ]
    },
    {
      "cell_type": "markdown",
      "source": [
        "***#Definindo o que é um triângulo:***"
      ],
      "metadata": {
        "id": "e1VyuzdzS9PU"
      }
    },
    {
      "cell_type": "code",
      "source": [
        "a = int(input(\" Digite o valor do primeiro lado do triângulo: \"))\n",
        "b = int(input(\" Digite o valor do segundo lado do triângulo: \"))\n",
        "c = int(input(\" Digite o valor do terceiro lado do triângulo: \"))\n",
        "\n",
        "triangulo = ( c < a + b) and ( a < b + c) and ( b < a + c)\n",
        "print(\" O triângulo é \", triangulo)\n"
      ],
      "metadata": {
        "colab": {
          "base_uri": "https://localhost:8080/"
        },
        "id": "Wm7-LfLiTqz4",
        "outputId": "743aa2b7-0e91-4f73-e8c7-7571db8bac84"
      },
      "execution_count": 14,
      "outputs": [
        {
          "output_type": "stream",
          "name": "stdout",
          "text": [
            " Digite o valor do primeiro lado do triângulo: 2\n",
            " Digite o valor do segundo lado do triângulo: 3\n",
            " Digite o valor do terceiro lado do triângulo: 2\n",
            " O triângulo é  True\n"
          ]
        }
      ]
    },
    {
      "cell_type": "markdown",
      "source": [
        "***Descobrindo se é Equilatero***"
      ],
      "metadata": {
        "id": "n2DWAwPoVwxO"
      }
    },
    {
      "cell_type": "code",
      "source": [
        "equilatero = ( a == b ) and ( b == c ) and ( c == a ) ( triangulo)\n",
        "print(\" Este triangulo é \", equilatero)\n"
      ],
      "metadata": {
        "colab": {
          "base_uri": "https://localhost:8080/"
        },
        "id": "FfztlNTvV4BU",
        "outputId": "f15075a0-b47c-4149-b6df-087abcca5e5d"
      },
      "execution_count": 15,
      "outputs": [
        {
          "output_type": "stream",
          "name": "stdout",
          "text": [
            " Este triangulo é  False\n"
          ]
        }
      ]
    },
    {
      "cell_type": "markdown",
      "source": [
        "***Descobrindo se é Isósceles***"
      ],
      "metadata": {
        "id": "IfpwqhYkWceG"
      }
    },
    {
      "cell_type": "code",
      "source": [
        "isosceles =  (( a == b ) or  ( b == a ) or ( c == a )) and (( a!= b) or ( b != a ) or ( c!= a))  and (triangulo)\n",
        "print(\" Este triângulo é \", isosceles)"
      ],
      "metadata": {
        "colab": {
          "base_uri": "https://localhost:8080/"
        },
        "id": "e7iW2GKyYdNb",
        "outputId": "7192b478-5353-4e4d-858d-8c25e6cb9c92"
      },
      "execution_count": 17,
      "outputs": [
        {
          "output_type": "stream",
          "name": "stdout",
          "text": [
            " Este triângulo é  True\n"
          ]
        }
      ]
    },
    {
      "cell_type": "markdown",
      "source": [
        "***Descobrindo se é Escaleno***"
      ],
      "metadata": {
        "id": "u8Sdd5zFXB0x"
      }
    },
    {
      "cell_type": "code",
      "source": [
        "escaleno = ( a != b ) and ( b != c ) and ( c != a ) and (triangulo)\n",
        "print(\" Este triângulo é: \", escaleno)"
      ],
      "metadata": {
        "colab": {
          "base_uri": "https://localhost:8080/"
        },
        "id": "nuxRMVOFXA0K",
        "outputId": "9a4cc149-e058-45e6-d1ad-1d3042a34797"
      },
      "execution_count": 18,
      "outputs": [
        {
          "output_type": "stream",
          "name": "stdout",
          "text": [
            " Este triângulo é:  False\n"
          ]
        }
      ]
    }
  ]
}