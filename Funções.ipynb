{
  "nbformat": 4,
  "nbformat_minor": 0,
  "metadata": {
    "colab": {
      "provenance": [],
      "authorship_tag": "ABX9TyM7aQ3L0yRXMfpeIg3VvAu8",
      "include_colab_link": true
    },
    "kernelspec": {
      "name": "python3",
      "display_name": "Python 3"
    },
    "language_info": {
      "name": "python"
    }
  },
  "cells": [
    {
      "cell_type": "markdown",
      "metadata": {
        "id": "view-in-github",
        "colab_type": "text"
      },
      "source": [
        "<a href=\"https://colab.research.google.com/github/geovanabsouza/Aulas_PA/blob/main/Fun%C3%A7%C3%B5es.ipynb\" target=\"_parent\"><img src=\"https://colab.research.google.com/assets/colab-badge.svg\" alt=\"Open In Colab\"/></a>"
      ]
    },
    {
      "cell_type": "markdown",
      "source": [
        "**Função sem retorno e sem parâmetros**"
      ],
      "metadata": {
        "id": "uFWYZWcZe7OE"
      }
    },
    {
      "cell_type": "code",
      "source": [
        "def msg():\n",
        "  print(\"BOM DIA\")\n",
        "\n",
        "msg()"
      ],
      "metadata": {
        "colab": {
          "base_uri": "https://localhost:8080/"
        },
        "id": "vm7LpoeufF-0",
        "outputId": "4bbafc82-58aa-4667-b540-030aff1624d5"
      },
      "execution_count": 1,
      "outputs": [
        {
          "output_type": "stream",
          "name": "stdout",
          "text": [
            "BOM DIA\n"
          ]
        }
      ]
    },
    {
      "cell_type": "markdown",
      "source": [
        "**Função sem retorno e com parâmetros**"
      ],
      "metadata": {
        "id": "S3eUKH4efUIK"
      }
    },
    {
      "cell_type": "code",
      "source": [
        "def potencia(base, expoente):\n",
        "  resultado = base ** expoente\n",
        "  print(\"O resultado é: \" + str(resultado))\n",
        "\n",
        "potencia (2, 3)"
      ],
      "metadata": {
        "colab": {
          "base_uri": "https://localhost:8080/"
        },
        "id": "gLIcBzyDfTdH",
        "outputId": "1865c6fd-11c2-4d58-d064-1c710632d0b0"
      },
      "execution_count": 2,
      "outputs": [
        {
          "output_type": "stream",
          "name": "stdout",
          "text": [
            "O resultado é: 8\n"
          ]
        }
      ]
    },
    {
      "cell_type": "code",
      "source": [
        "def raiz(num):\n",
        "  raiz = num ** 0.5\n",
        "  print(\"A raiz quadrada de \", num, \" é igual a \", raiz)\n",
        "\n",
        "raiz (9)"
      ],
      "metadata": {
        "colab": {
          "base_uri": "https://localhost:8080/"
        },
        "id": "i8o-13CZfw_7",
        "outputId": "e8b06006-0019-437a-a3a8-2978c2145739"
      },
      "execution_count": 3,
      "outputs": [
        {
          "output_type": "stream",
          "name": "stdout",
          "text": [
            "A raiz quadrada de  9  é igual a  3.0\n"
          ]
        }
      ]
    },
    {
      "cell_type": "markdown",
      "source": [
        "**Função com retorno e sem parâmetros**"
      ],
      "metadata": {
        "id": "QjNmIvZPf_FC"
      }
    },
    {
      "cell_type": "code",
      "source": [
        "def somar(x, y):\n",
        "  soma = x + y\n",
        "  return soma\n",
        "\n",
        "for i in range(3):\n",
        "  print(\"Exemplo com retorno\")\n",
        "  num1 = int(input(\"Digite o primeiro número:\"))\n",
        "  num2 = int(input(\"Digite o segundo número:\"))\n",
        "  retorno = somar(num1,num2)\n",
        "  print(\"Voltou da função: \", retorno)"
      ],
      "metadata": {
        "colab": {
          "base_uri": "https://localhost:8080/"
        },
        "id": "6cfRAD8nhZN8",
        "outputId": "1a9a3585-c7af-469e-9db2-6a88af04c28a"
      },
      "execution_count": 17,
      "outputs": [
        {
          "output_type": "stream",
          "name": "stdout",
          "text": [
            "Exemplo com retorno\n",
            "Digite o primeiro número:3\n",
            "Digite o segundo número:3\n",
            "Voltou da função:  6\n",
            "Exemplo com retorno\n",
            "Digite o primeiro número:4\n",
            "Digite o segundo número:5\n",
            "Voltou da função:  9\n",
            "Exemplo com retorno\n",
            "Digite o primeiro número:7\n",
            "Digite o segundo número:8\n",
            "Voltou da função:  15\n"
          ]
        }
      ]
    }
  ]
}