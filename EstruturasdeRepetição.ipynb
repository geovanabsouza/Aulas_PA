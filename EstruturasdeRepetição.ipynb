{
  "nbformat": 4,
  "nbformat_minor": 0,
  "metadata": {
    "colab": {
      "provenance": [],
      "authorship_tag": "ABX9TyODk6iYACxF6BLcTdxWvgpN",
      "include_colab_link": true
    },
    "kernelspec": {
      "name": "python3",
      "display_name": "Python 3"
    },
    "language_info": {
      "name": "python"
    }
  },
  "cells": [
    {
      "cell_type": "markdown",
      "metadata": {
        "id": "view-in-github",
        "colab_type": "text"
      },
      "source": [
        "<a href=\"https://colab.research.google.com/github/geovanabsouza/Aulas_PA/blob/main/EstruturasdeRepeti%C3%A7%C3%A3o.ipynb\" target=\"_parent\"><img src=\"https://colab.research.google.com/assets/colab-badge.svg\" alt=\"Open In Colab\"/></a>"
      ]
    },
    {
      "cell_type": "markdown",
      "source": [
        "# Imprimir \"Bom dia!\" 10 vezes na tela:"
      ],
      "metadata": {
        "id": "53goqC6laAeb"
      }
    },
    {
      "cell_type": "code",
      "source": [
        "print(\"Bom dia!\")\n",
        "print(\"Bom dia!\")\n",
        "print(\"Bom dia!\")\n",
        "print(\"Bom dia!\")\n",
        "print(\"Bom dia!\")\n",
        "print(\"Bom dia!\")\n",
        "print(\"Bom dia!\")\n",
        "print(\"Bom dia!\")\n",
        "print(\"Bom dia!\")\n",
        "print(\"Bom dia!\")\n"
      ],
      "metadata": {
        "colab": {
          "base_uri": "https://localhost:8080/"
        },
        "id": "ul-ZcUraaH89",
        "outputId": "6f8866fc-97ec-4a7b-cbad-ab981e43e3a7"
      },
      "execution_count": 3,
      "outputs": [
        {
          "output_type": "stream",
          "name": "stdout",
          "text": [
            "Bom dia!\n",
            "Bom dia!\n",
            "Bom dia!\n",
            "Bom dia!\n",
            "Bom dia!\n",
            "Bom dia!\n",
            "Bom dia!\n",
            "Bom dia!\n",
            "Bom dia!\n",
            "Bom dia!\n"
          ]
        }
      ]
    },
    {
      "cell_type": "markdown",
      "source": [
        "# Laço de repetição \"for\" :"
      ],
      "metadata": {
        "id": "9XKzvH-JaSjs"
      }
    },
    {
      "cell_type": "code",
      "source": [
        "for i in range(10):\n",
        "  #print(i)\n",
        "  print(i + 1,\" - Bom dia!\")"
      ],
      "metadata": {
        "colab": {
          "base_uri": "https://localhost:8080/"
        },
        "id": "76HlzZE-aZSb",
        "outputId": "38d147b8-7e56-451f-9493-88ef43953b71"
      },
      "execution_count": 5,
      "outputs": [
        {
          "output_type": "stream",
          "name": "stdout",
          "text": [
            "1  - Bom dia!\n",
            "2  - Bom dia!\n",
            "3  - Bom dia!\n",
            "4  - Bom dia!\n",
            "5  - Bom dia!\n",
            "6  - Bom dia!\n",
            "7  - Bom dia!\n",
            "8  - Bom dia!\n",
            "9  - Bom dia!\n",
            "10  - Bom dia!\n"
          ]
        }
      ]
    },
    {
      "cell_type": "markdown",
      "source": [
        "ou:"
      ],
      "metadata": {
        "id": "Q4Uf14_7bXOX"
      }
    },
    {
      "cell_type": "code",
      "source": [
        "for i in range(1,11):\n",
        "  #print(i)\n",
        "  print(i,\" - Bom dia!\")"
      ],
      "metadata": {
        "colab": {
          "base_uri": "https://localhost:8080/"
        },
        "id": "4HaAgKozbY-8",
        "outputId": "a67fb16a-14af-4ad0-ba72-310f7409aa50"
      },
      "execution_count": 6,
      "outputs": [
        {
          "output_type": "stream",
          "name": "stdout",
          "text": [
            "1  - Bom dia!\n",
            "2  - Bom dia!\n",
            "3  - Bom dia!\n",
            "4  - Bom dia!\n",
            "5  - Bom dia!\n",
            "6  - Bom dia!\n",
            "7  - Bom dia!\n",
            "8  - Bom dia!\n",
            "9  - Bom dia!\n",
            "10  - Bom dia!\n"
          ]
        }
      ]
    },
    {
      "cell_type": "markdown",
      "source": [
        "# Mostrar os números ímpares de 1 ao 30:"
      ],
      "metadata": {
        "id": "QlZVPRh4blpd"
      }
    },
    {
      "cell_type": "code",
      "source": [
        "for i in range(1,31):\n",
        "  if i%2==1:\n",
        "    print(i)\n",
        ""
      ],
      "metadata": {
        "colab": {
          "base_uri": "https://localhost:8080/"
        },
        "id": "xm0PZ1b1br-D",
        "outputId": "e931103b-2025-4326-fac5-da89e9d13406"
      },
      "execution_count": 13,
      "outputs": [
        {
          "output_type": "stream",
          "name": "stdout",
          "text": [
            "1\n",
            "3\n",
            "5\n",
            "7\n",
            "9\n",
            "11\n",
            "13\n",
            "15\n",
            "17\n",
            "19\n",
            "21\n",
            "23\n",
            "25\n",
            "27\n",
            "29\n"
          ]
        }
      ]
    },
    {
      "cell_type": "markdown",
      "source": [
        "Contador de um número inicial e um número final digitados pelo usuário"
      ],
      "metadata": {
        "id": "dbABx8infVWt"
      }
    },
    {
      "cell_type": "code",
      "source": [
        "initial = int(input(\"Digite o número inicial: \"))\n",
        "final = int(input(\"Digite o número final: \"))\n",
        "\n",
        "if initial > final:\n",
        "  aux = initial\n",
        "  initial = final\n",
        "  final = aux\n",
        "\n",
        "for i in range(initial, final + 1):\n",
        "  print(i)"
      ],
      "metadata": {
        "colab": {
          "base_uri": "https://localhost:8080/"
        },
        "id": "3vtN6ImbffhZ",
        "outputId": "57b0fce2-74b5-49f1-c061-7b7c4fb268fe"
      },
      "execution_count": 31,
      "outputs": [
        {
          "output_type": "stream",
          "name": "stdout",
          "text": [
            "Digite o número inicial: 2\n",
            "Digite o número final: 7\n",
            "2\n",
            "3\n",
            "4\n",
            "5\n",
            "6\n",
            "7\n"
          ]
        }
      ]
    },
    {
      "cell_type": "markdown",
      "source": [
        "ou:"
      ],
      "metadata": {
        "id": "ksocHLBxi0Gk"
      }
    },
    {
      "cell_type": "code",
      "source": [
        "initial = int(input(\"Digite o número inicial: \"))\n",
        "final = int(input(\"Digite o número final: \"))\n",
        "\n",
        "initial, final = final, initial\n",
        "for i in range(initial, final + 1):\n",
        "  print(i)"
      ],
      "metadata": {
        "colab": {
          "base_uri": "https://localhost:8080/"
        },
        "id": "e9ZFOTZwi1Gw",
        "outputId": "1b1d8b78-eeb4-4385-f466-056aa70b077a"
      },
      "execution_count": 32,
      "outputs": [
        {
          "output_type": "stream",
          "name": "stdout",
          "text": [
            "Digite o número inicial: 7\n",
            "Digite o número final: 2\n",
            "2\n",
            "3\n",
            "4\n",
            "5\n",
            "6\n",
            "7\n"
          ]
        }
      ]
    },
    {
      "cell_type": "markdown",
      "source": [
        "Some todos os números de 1 ao 10:"
      ],
      "metadata": {
        "id": "bpDrg0ivjUsh"
      }
    },
    {
      "cell_type": "code",
      "source": [
        "soma = 0\n",
        "for i in range(1, 11):\n",
        "  soma = soma + i\n",
        "  print('Acumulado => ', soma)\n",
        "print('Total', soma)\n",
        "\n"
      ],
      "metadata": {
        "colab": {
          "base_uri": "https://localhost:8080/"
        },
        "id": "i-d4mz5qjZOp",
        "outputId": "e693bb9b-b9d9-4943-8533-fd84f9851195"
      },
      "execution_count": 43,
      "outputs": [
        {
          "output_type": "stream",
          "name": "stdout",
          "text": [
            "Acumulado =>  1\n",
            "Acumulado =>  3\n",
            "Acumulado =>  6\n",
            "Acumulado =>  10\n",
            "Acumulado =>  15\n",
            "Acumulado =>  21\n",
            "Acumulado =>  28\n",
            "Acumulado =>  36\n",
            "Acumulado =>  45\n",
            "Acumulado =>  55\n",
            "Total 55\n"
          ]
        }
      ]
    },
    {
      "cell_type": "markdown",
      "source": [
        "Quanto é a soma de todos os números ímpares de 1 até 100?"
      ],
      "metadata": {
        "id": "WF9uIg0_lO2g"
      }
    },
    {
      "cell_type": "code",
      "source": [
        "soma = 0\n",
        "\n",
        "for i in range(1,101):\n",
        "  if i%2==1:\n",
        "    soma = soma + i\n",
        "print('Total=> ',soma)"
      ],
      "metadata": {
        "colab": {
          "base_uri": "https://localhost:8080/"
        },
        "id": "Is-AxxcOlXQW",
        "outputId": "67de3eca-4f1a-4aca-bbeb-33e60a443fcc"
      },
      "execution_count": 51,
      "outputs": [
        {
          "output_type": "stream",
          "name": "stdout",
          "text": [
            "Total=>  2500\n"
          ]
        }
      ]
    },
    {
      "cell_type": "markdown",
      "source": [
        "Contador de 1 à 10 com \"while\":"
      ],
      "metadata": {
        "id": "AOWdeQBzoA8U"
      }
    },
    {
      "cell_type": "code",
      "source": [
        "num = 1\n",
        "while (num <= 10):\n",
        "  print(num)\n",
        "  num = num + 1"
      ],
      "metadata": {
        "colab": {
          "base_uri": "https://localhost:8080/"
        },
        "id": "OSd1iKQ1oGy0",
        "outputId": "59cce7db-0962-47cc-d059-79a3153d32ab"
      },
      "execution_count": 55,
      "outputs": [
        {
          "output_type": "stream",
          "name": "stdout",
          "text": [
            "1\n",
            "2\n",
            "3\n",
            "4\n",
            "5\n",
            "6\n",
            "7\n",
            "8\n",
            "9\n",
            "10\n"
          ]
        }
      ]
    },
    {
      "cell_type": "markdown",
      "source": [
        "Digite números até o usuário digitar 0:"
      ],
      "metadata": {
        "id": "wZQ_awRnpxMn"
      }
    },
    {
      "cell_type": "code",
      "source": [
        "num = int(input(\"Digite um número: \"))\n",
        "while num != 00:\n",
        "  num = int(input(\"Digite um número: \"))"
      ],
      "metadata": {
        "colab": {
          "base_uri": "https://localhost:8080/"
        },
        "id": "NPxqonMmprTH",
        "outputId": "893dcdfb-e505-47e2-81a2-d14d50d6b45e"
      },
      "execution_count": 57,
      "outputs": [
        {
          "name": "stdout",
          "output_type": "stream",
          "text": [
            "Digite um número: 2\n",
            "Digite um número: 3\n",
            "Digite um número: 4\n",
            "Digite um número: 5\n",
            "Digite um número: 6\n",
            "Digite um número: 7\n",
            "Digite um número: 8\n",
            "Digite um número: 9\n",
            "Digite um número: 0\n"
          ]
        }
      ]
    },
    {
      "cell_type": "markdown",
      "source": [
        "Somar números até que o usuário digite 0"
      ],
      "metadata": {
        "id": "PK5wphafxPQu"
      }
    },
    {
      "cell_type": "code",
      "source": [
        "num = int(input(\"Digite um número: \"))\n",
        "soma = num\n",
        "while num != 00:\n",
        "  num = int(input(\"Digite um número: \"))\n",
        "  soma += num\n",
        "print('Total: ', soma)"
      ],
      "metadata": {
        "colab": {
          "base_uri": "https://localhost:8080/"
        },
        "id": "dzNdti3LxVfa",
        "outputId": "def4a0b8-7c8b-4798-ed8a-90ceeadd8c3f"
      },
      "execution_count": 59,
      "outputs": [
        {
          "output_type": "stream",
          "name": "stdout",
          "text": [
            "Digite um número: 1\n",
            "Digite um número: 2\n",
            "Digite um número: 3\n",
            "Digite um número: 0\n",
            "Total:  6\n"
          ]
        }
      ]
    },
    {
      "cell_type": "markdown",
      "source": [
        "Criando Menu de opções:"
      ],
      "metadata": {
        "id": "-jJhtpwUy9pa"
      }
    },
    {
      "cell_type": "code",
      "source": [
        "opcao = 0\n",
        "while opcao != 4:\n",
        "  print(\"Escolha uma das opções:\")\n",
        "  print(\"1 - OPÇÃO 1\")\n",
        "  print(\"2 - OPÇÃO 2\")\n",
        "  print(\"3 - OPÇÃO 3\")\n",
        "  print(\"4 - SAIR\")\n",
        "  print(\"Digite: \")\n",
        "  opcao = int(input(\"Sua opção => \"))\n",
        "\n",
        "  if opcao == 1:\n",
        "    print(\" Você escolheu a opção 01.\")\n",
        "    print()\n",
        "    print(\"***************\")\n",
        "  if opcao == 2:\n",
        "    print(\" Você escolheu a opção 02.\")\n",
        "    print()\n",
        "    print(\"**************\")\n",
        "  if opcao == 3:\n",
        "    print(\" Você escolheu a opção 03.\")\n",
        "    print()\n",
        "    print(\"***************\")"
      ],
      "metadata": {
        "colab": {
          "base_uri": "https://localhost:8080/"
        },
        "id": "zcwCSTKazBRh",
        "outputId": "032603a6-d052-45a2-b3f1-df4c3f8c92d5"
      },
      "execution_count": 70,
      "outputs": [
        {
          "name": "stdout",
          "output_type": "stream",
          "text": [
            "Escolha uma das opções:\n",
            "1 - OPÇÃO 1\n",
            "2 - OPÇÃO 2\n",
            "3 - OPÇÃO 3\n",
            "4 - SAIR\n",
            "Digite: \n",
            "Sua opção => 1\n",
            " Você escolheu a opção 01.\n",
            "\n",
            "***************\n",
            "Escolha uma das opções:\n",
            "1 - OPÇÃO 1\n",
            "2 - OPÇÃO 2\n",
            "3 - OPÇÃO 3\n",
            "4 - SAIR\n",
            "Digite: \n",
            "Sua opção => 2\n",
            " Você escolheu a opção 02.\n",
            "\n",
            "**************\n",
            "Escolha uma das opções:\n",
            "1 - OPÇÃO 1\n",
            "2 - OPÇÃO 2\n",
            "3 - OPÇÃO 3\n",
            "4 - SAIR\n",
            "Digite: \n",
            "Sua opção => 3\n",
            " Você escolheu a opção 03.\n",
            "\n",
            "***************\n",
            "Escolha uma das opções:\n",
            "1 - OPÇÃO 1\n",
            "2 - OPÇÃO 2\n",
            "3 - OPÇÃO 3\n",
            "4 - SAIR\n",
            "Digite: \n",
            "Sua opção => 4\n"
          ]
        }
      ]
    }
  ]
}