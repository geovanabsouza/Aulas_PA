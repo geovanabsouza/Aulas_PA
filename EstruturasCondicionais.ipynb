{
  "nbformat": 4,
  "nbformat_minor": 0,
  "metadata": {
    "colab": {
      "provenance": [],
      "authorship_tag": "ABX9TyNIao4zQnKitRE1Thsv+GFv",
      "include_colab_link": true
    },
    "kernelspec": {
      "name": "python3",
      "display_name": "Python 3"
    },
    "language_info": {
      "name": "python"
    }
  },
  "cells": [
    {
      "cell_type": "markdown",
      "metadata": {
        "id": "view-in-github",
        "colab_type": "text"
      },
      "source": [
        "<a href=\"https://colab.research.google.com/github/geovanabsouza/Aulas_PA/blob/main/EstruturasCondicionais.ipynb\" target=\"_parent\"><img src=\"https://colab.research.google.com/assets/colab-badge.svg\" alt=\"Open In Colab\"/></a>"
      ]
    },
    {
      "cell_type": "markdown",
      "source": [
        "***ESTRUTURAS CONDICIONAIS***"
      ],
      "metadata": {
        "id": "eKirqG6_aGUN"
      }
    },
    {
      "cell_type": "markdown",
      "source": [
        " OBJETIVO: Avaliar se um aluno foi aprovado caso sua média seja maior ou igual a 5"
      ],
      "metadata": {
        "id": "YQTe0XbWb3wu"
      }
    },
    {
      "cell_type": "code",
      "source": [
        "# Entrada de notas\n",
        "\n",
        "n1 = float(input(\" Digite a primeira nota: \"))\n",
        "n2 = float(input(\" Digite a segunda nota: \"))\n",
        "n3 = float(input(\" Digite a terceira nota: \"))\n",
        "\n"
      ],
      "metadata": {
        "colab": {
          "base_uri": "https://localhost:8080/"
        },
        "id": "xqMHweq2bcp7",
        "outputId": "fc13bbd3-050b-48fc-8482-17ead5292028"
      },
      "execution_count": 1,
      "outputs": [
        {
          "name": "stdout",
          "output_type": "stream",
          "text": [
            " Digite a primeira nota: 4.5\n",
            " Digite a segunda nota: 6.1\n",
            " Digite a terceira nota: 5\n"
          ]
        }
      ]
    },
    {
      "cell_type": "code",
      "source": [
        "media = ( n1 + n2 + n3) / 3\n",
        "print(\" Sua média foi de \", media)"
      ],
      "metadata": {
        "colab": {
          "base_uri": "https://localhost:8080/"
        },
        "id": "TpMwLl3ucxzu",
        "outputId": "09e5b26a-45e3-4ac0-b465-5aa0bc8e2a3f"
      },
      "execution_count": 2,
      "outputs": [
        {
          "output_type": "stream",
          "name": "stdout",
          "text": [
            " Sua média foi de  5.2\n"
          ]
        }
      ]
    },
    {
      "cell_type": "code",
      "source": [
        "# Avaliando o valor da média: se é maior ou igual a 5\n",
        "\n",
        "if (media >= 5):\n",
        "  print(\"Aprovado!\")\n",
        "print(\" Fim do Programa.\")\n"
      ],
      "metadata": {
        "colab": {
          "base_uri": "https://localhost:8080/"
        },
        "id": "UHVH3QvNdobI",
        "outputId": "84f7c53c-1cec-415c-a0fa-4487f77a754c"
      },
      "execution_count": 4,
      "outputs": [
        {
          "output_type": "stream",
          "name": "stdout",
          "text": [
            "Aprovado!\n",
            " Fim do Programa.\n"
          ]
        }
      ]
    },
    {
      "cell_type": "markdown",
      "source": [
        "OBJETIVO: Avaliar se um aluno foi aprovado ou reprovado caso sua média seja maior ou igual a 5"
      ],
      "metadata": {
        "id": "zqjY5LkCfTnm"
      }
    },
    {
      "cell_type": "code",
      "source": [
        "# Entrada de notas\n",
        "\n",
        "n1 = float(input(\" Digite a primeira nota: \"))\n",
        "n2 = float(input(\" Digite a segunda nota: \"))\n",
        "n3 = float(input(\" Digite a terceira nota: \"))\n"
      ],
      "metadata": {
        "colab": {
          "base_uri": "https://localhost:8080/"
        },
        "id": "qGPH3b-0fjzG",
        "outputId": "30c8bf24-e688-432a-9ffe-e128d5f4f0db"
      },
      "execution_count": 5,
      "outputs": [
        {
          "name": "stdout",
          "output_type": "stream",
          "text": [
            " Digite a primeira nota: 4\n",
            " Digite a segunda nota: 4\n",
            " Digite a terceira nota: 5\n"
          ]
        }
      ]
    },
    {
      "cell_type": "code",
      "source": [
        "# Processamento da média\n",
        "\n",
        "media = ( n1 + n2 + n3) / 3\n",
        "print(\" Sua média foi de \", media)"
      ],
      "metadata": {
        "colab": {
          "base_uri": "https://localhost:8080/"
        },
        "id": "KvGzUtpYfvEe",
        "outputId": "67142163-ab91-4b58-95b8-810858a7e0f2"
      },
      "execution_count": 6,
      "outputs": [
        {
          "output_type": "stream",
          "name": "stdout",
          "text": [
            " Sua média foi de  4.333333333333333\n"
          ]
        }
      ]
    },
    {
      "cell_type": "code",
      "source": [
        "# Avaliando o valor da média: se é maior ou igual a 5\n",
        "\n",
        "if (media >= 5):\n",
        "  print( \"Aprovado! =)\" )\n",
        "else:\n",
        "  print( \"Reprovado =( \")\n",
        "print(\" Fim do programa.\")"
      ],
      "metadata": {
        "colab": {
          "base_uri": "https://localhost:8080/"
        },
        "id": "zveXgkAQf3Qe",
        "outputId": "48ca8874-422e-4bad-9889-215aded36900"
      },
      "execution_count": 8,
      "outputs": [
        {
          "output_type": "stream",
          "name": "stdout",
          "text": [
            "Reprovado =( \n",
            " Fim do Programa.\n"
          ]
        }
      ]
    },
    {
      "cell_type": "markdown",
      "source": [
        "![image.png](data:image/png;base64,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)"
      ],
      "metadata": {
        "id": "nSxbLilel2fs"
      }
    },
    {
      "cell_type": "markdown",
      "source": [
        "OBJETIVO: Avaliar se um aluno foi aprovado, reprovado ou está de recuperação caso sua média seja > 5, < 4 ou entre 4 e 5"
      ],
      "metadata": {
        "id": "nR77m0SjiGDT"
      }
    },
    {
      "cell_type": "code",
      "source": [
        "# Aprovado: média > 5\n",
        "# Aprovado: média < 4\n",
        "# Aprovado: média entre 4 e 5\n",
        "\n",
        "# Entrada de notas\n",
        "\n",
        "n1 = float(input(\" Digite a primeira nota: \"))\n",
        "n2 = float(input(\" Digite a segunda nota: \"))\n",
        "n3 = float(input(\" Digite a terceira nota: \"))\n",
        "\n"
      ],
      "metadata": {
        "colab": {
          "base_uri": "https://localhost:8080/"
        },
        "id": "YljevVtSiXyr",
        "outputId": "36d7406b-cdd7-4c69-85bb-2da83452e5a9"
      },
      "execution_count": 9,
      "outputs": [
        {
          "name": "stdout",
          "output_type": "stream",
          "text": [
            " Digite a primeira nota: 4\n",
            " Digite a segunda nota: 5\n",
            " Digite a terceira nota: 4\n"
          ]
        }
      ]
    },
    {
      "cell_type": "code",
      "source": [
        "# Processamento da média\n",
        "\n",
        "media = ( n1 + n2 + n3) / 3\n",
        "print(\" Sua média foi de \", media)"
      ],
      "metadata": {
        "colab": {
          "base_uri": "https://localhost:8080/"
        },
        "id": "X86dIYl2izh2",
        "outputId": "b2b680dc-0f42-465b-e89d-0948323635d4"
      },
      "execution_count": 10,
      "outputs": [
        {
          "output_type": "stream",
          "name": "stdout",
          "text": [
            " Sua média foi de  4.333333333333333\n"
          ]
        }
      ]
    },
    {
      "cell_type": "code",
      "source": [
        "if (media > 5):\n",
        "  print(\" Aprovado! =)\")\n",
        "else:\n",
        "  if (media < 4):\n",
        "    print(\" Reprovado =( \")\n",
        "  else:\n",
        "    print(\" Recuperação =/ \")\n",
        "print(\" Fim do programa.\")\n",
        ""
      ],
      "metadata": {
        "colab": {
          "base_uri": "https://localhost:8080/"
        },
        "id": "tHD3B1DVi-ul",
        "outputId": "b0f76bcd-a31b-44f5-8426-2fb9d21eb53a"
      },
      "execution_count": 18,
      "outputs": [
        {
          "output_type": "stream",
          "name": "stdout",
          "text": [
            " Recuperação =/ \n",
            " Fim do programa.\n"
          ]
        }
      ]
    },
    {
      "cell_type": "code",
      "source": [
        "# Outro jeito de fazer fazer o processo anterior: troque else por elif\n",
        "\n",
        "if (media > 5):\n",
        "  print(\" Aprovado! =)\")\n",
        "elif (media < 4):\n",
        "    print(\" Reprovado =( \")\n",
        "else:\n",
        "    print(\" Recuperação =/ \")\n",
        "print(\" Fim do programa.\")\n",
        "\n"
      ],
      "metadata": {
        "colab": {
          "base_uri": "https://localhost:8080/"
        },
        "id": "C3awmUhzkf1V",
        "outputId": "355917dc-d9b3-42aa-c96f-6a04fa64e519"
      },
      "execution_count": 23,
      "outputs": [
        {
          "output_type": "stream",
          "name": "stdout",
          "text": [
            " Recuperação =/ \n",
            " Fim do programa.\n"
          ]
        }
      ]
    }
  ]
}