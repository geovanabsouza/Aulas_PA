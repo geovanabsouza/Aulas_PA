{
  "nbformat": 4,
  "nbformat_minor": 0,
  "metadata": {
    "colab": {
      "provenance": [],
      "authorship_tag": "ABX9TyO8HzflDyEFOCWfeGer90z/",
      "include_colab_link": true
    },
    "kernelspec": {
      "name": "python3",
      "display_name": "Python 3"
    },
    "language_info": {
      "name": "python"
    }
  },
  "cells": [
    {
      "cell_type": "markdown",
      "metadata": {
        "id": "view-in-github",
        "colab_type": "text"
      },
      "source": [
        "<a href=\"https://colab.research.google.com/github/geovanabsouza/Aulas_PA/blob/main/La%C3%A7osdeRepeti%C3%A7%C3%A3o.ipynb\" target=\"_parent\"><img src=\"https://colab.research.google.com/assets/colab-badge.svg\" alt=\"Open In Colab\"/></a>"
      ]
    },
    {
      "cell_type": "markdown",
      "source": [
        "Escreva um algoritmo que leia 20 valores inteiros e ao final, exiba:\n",
        "\n",
        "a - a soma dos números positivos;\n",
        "b - a quantidade de valores negativos;"
      ],
      "metadata": {
        "id": "WgoC6efAbSNG"
      }
    },
    {
      "cell_type": "code",
      "source": [
        "spositivos = 0\n",
        "quanegativos = 0\n",
        "stotal = 0\n",
        "for i in range (1,6):\n",
        "  numero = int(input(\"Digite um número inteiro: \"))\n",
        "  stotal = stotal + numero\n",
        "\n",
        "  if numero < 0:\n",
        "    #numero negativo\n",
        "    #quanegativos = quanegativos + 1\n",
        "      quanegativos += 1\n",
        "\n",
        "  else:\n",
        "    #números positivos\n",
        "      spositivos = spositivos + numero\n",
        "      print(\"Valor do x=>\", i)\n",
        "\n",
        "\n",
        "media = stotal / i\n",
        "print(\"Média = \", media)\n",
        "\n",
        "#Mostrar os dados\n",
        "print(\"A soma dos positivos é: \", spositivos)\n",
        "print(\"A soma dos negativos é: \",quanegativos)"
      ],
      "metadata": {
        "colab": {
          "base_uri": "https://localhost:8080/"
        },
        "id": "fRn93Zefb7G6",
        "outputId": "a6af9d7c-ab19-4fd7-f5e7-94c2762317e6"
      },
      "execution_count": 1,
      "outputs": [
        {
          "output_type": "stream",
          "name": "stdout",
          "text": [
            "Digite um número inteiro: 1\n",
            "Valor do x=> 1\n",
            "Digite um número inteiro: 2\n",
            "Valor do x=> 2\n",
            "Digite um número inteiro: 3\n",
            "Valor do x=> 3\n",
            "Digite um número inteiro: 4\n",
            "Valor do x=> 4\n",
            "Digite um número inteiro: 2\n",
            "Valor do x=> 5\n",
            "Média =  2.4\n",
            "A soma dos positivos é:  12\n",
            "A soma dos negativos é:  0\n"
          ]
        }
      ]
    },
    {
      "cell_type": "markdown",
      "source": [
        "Escreva um programa que solicite um número inteiro e positivo para o usuário e na sequência o programa deve calcular um valor como mostrado o exemplo abaixo:\n",
        "\n",
        "Número digitado: 4\n",
        "Valor = 1/1 + 1/2 + 1/3 + 1/4\n",
        "Valor = 2,08"
      ],
      "metadata": {
        "id": "-K-5MngBfLNS"
      }
    },
    {
      "cell_type": "code",
      "source": [],
      "metadata": {
        "id": "eT13cR4IgJfu"
      },
      "execution_count": null,
      "outputs": []
    }
  ]
}