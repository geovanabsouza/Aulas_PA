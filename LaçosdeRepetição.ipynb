{
  "nbformat": 4,
  "nbformat_minor": 0,
  "metadata": {
    "colab": {
      "provenance": [],
      "authorship_tag": "ABX9TyOFuFF3G4xJI6PoSPpP9NuS",
      "include_colab_link": true
    },
    "kernelspec": {
      "name": "python3",
      "display_name": "Python 3"
    },
    "language_info": {
      "name": "python"
    }
  },
  "cells": [
    {
      "cell_type": "markdown",
      "metadata": {
        "id": "view-in-github",
        "colab_type": "text"
      },
      "source": [
        "<a href=\"https://colab.research.google.com/github/geovanabsouza/Aulas_PA/blob/main/La%C3%A7osdeRepeti%C3%A7%C3%A3o.ipynb\" target=\"_parent\"><img src=\"https://colab.research.google.com/assets/colab-badge.svg\" alt=\"Open In Colab\"/></a>"
      ]
    },
    {
      "cell_type": "markdown",
      "source": [
        "Escreva um algoritmo que leia 20 valores inteiros e ao final, exiba:\n",
        "\n",
        "a - a soma dos números positivos;\n",
        "b - a quantidade de valores negativos;"
      ],
      "metadata": {
        "id": "WgoC6efAbSNG"
      }
    },
    {
      "cell_type": "code",
      "source": [
        "spositivos = 0\n",
        "quanegativos = 0\n",
        "stotal = 0\n",
        "for i in range (1,6):\n",
        "  numero = int(input(\"Digite um número inteiro: \"))\n",
        "  stotal = stotal + numero\n",
        "\n",
        "  if numero < 0:\n",
        "    #numero negativo\n",
        "    #quanegativos = quanegativos + 1\n",
        "      quanegativos += 1\n",
        "\n",
        "  else:\n",
        "    #números positivos\n",
        "      spositivos = spositivos + numero\n",
        "      print(\"Valor do x=>\", i)\n",
        "\n",
        "\n",
        "media = stotal / i\n",
        "print(\"Média = \", media)\n",
        "\n",
        "#Mostrar os dados\n",
        "print(\"A soma dos positivos é: \", spositivos)\n",
        "print(\"A soma dos negativos é: \",quanegativos)"
      ],
      "metadata": {
        "colab": {
          "base_uri": "https://localhost:8080/"
        },
        "id": "fRn93Zefb7G6",
        "outputId": "a6af9d7c-ab19-4fd7-f5e7-94c2762317e6"
      },
      "execution_count": 1,
      "outputs": [
        {
          "output_type": "stream",
          "name": "stdout",
          "text": [
            "Digite um número inteiro: 1\n",
            "Valor do x=> 1\n",
            "Digite um número inteiro: 2\n",
            "Valor do x=> 2\n",
            "Digite um número inteiro: 3\n",
            "Valor do x=> 3\n",
            "Digite um número inteiro: 4\n",
            "Valor do x=> 4\n",
            "Digite um número inteiro: 2\n",
            "Valor do x=> 5\n",
            "Média =  2.4\n",
            "A soma dos positivos é:  12\n",
            "A soma dos negativos é:  0\n"
          ]
        }
      ]
    },
    {
      "cell_type": "markdown",
      "source": [
        "Escreva um programa que solicite um número inteiro e positivo para o usuário e na sequência o programa deve calcular um valor como mostrado o exemplo abaixo:\n",
        "\n",
        "Número digitado: 4\n",
        "Valor = 1/1 + 1/2 + 1/3 + 1/4\n",
        "Valor = 2,08"
      ],
      "metadata": {
        "id": "-K-5MngBfLNS"
      }
    },
    {
      "cell_type": "code",
      "source": [
        "\n",
        "num = int(input(\"Digite um número inteiro: \"))\n",
        "valor = 0\n",
        "for x in range (1, num + 1):\n",
        "  print(x)\n",
        "  valor = valor + 1/x\n",
        "print(\"Valor total: \", valor)"
      ],
      "metadata": {
        "colab": {
          "base_uri": "https://localhost:8080/"
        },
        "id": "eT13cR4IgJfu",
        "outputId": "9aaf0b6b-f547-465a-d046-7239282fe58a"
      },
      "execution_count": 4,
      "outputs": [
        {
          "output_type": "stream",
          "name": "stdout",
          "text": [
            "Digite um número inteiro: 4\n",
            "1\n",
            "2\n",
            "3\n",
            "4\n",
            "Valor total:  2.083333333333333\n"
          ]
        }
      ]
    },
    {
      "cell_type": "markdown",
      "source": [
        "**TRABALHANDO COM STRINGS EM LAÇOS DE REPETIÇÃO**"
      ],
      "metadata": {
        "id": "ZX-IJEcTZyXz"
      }
    },
    {
      "cell_type": "code",
      "source": [
        "nome = \"Geovana de Brito Souza\"\n",
        "\n",
        "quanletra = len(nome)\n",
        "quanletra\n",
        "\n",
        "for letra in nome:\n",
        "  print(letra)"
      ],
      "metadata": {
        "colab": {
          "base_uri": "https://localhost:8080/"
        },
        "id": "88kZuZA1Z5wZ",
        "outputId": "0706dc30-8dea-4d5f-d082-3d46f004d874"
      },
      "execution_count": 6,
      "outputs": [
        {
          "output_type": "stream",
          "name": "stdout",
          "text": [
            "G\n",
            "e\n",
            "o\n",
            "v\n",
            "a\n",
            "n\n",
            "a\n",
            " \n",
            "d\n",
            "e\n",
            " \n",
            "B\n",
            "r\n",
            "i\n",
            "t\n",
            "o\n",
            " \n",
            "S\n",
            "o\n",
            "u\n",
            "z\n",
            "a\n"
          ]
        }
      ]
    },
    {
      "cell_type": "markdown",
      "source": [
        "**SPLIT (QUEBRA COM BASE EM UM CRITÉRIO)**"
      ],
      "metadata": {
        "id": "IA_ijgfdae54"
      }
    },
    {
      "cell_type": "code",
      "source": [
        "nome = \"Geovana de Brito Souza\"\n",
        "nome\n",
        "\n",
        "separados = nome.split()\n",
        "separados\n",
        "\n",
        "for nomer in separados:\n",
        "  print(\"Nome\")\n",
        "\n",
        "bandeira == False\n",
        "for verificador in \"Geovana\":\n",
        "  if verificador == \"e\":\n",
        "    print(\"Achei a letra E\")\n",
        "    break\n",
        "  else:\n",
        "    bandeira == True\n",
        "\n",
        "  if bandeira == False:\n",
        "    print(\"Não achei a letra E\")"
      ],
      "metadata": {
        "colab": {
          "base_uri": "https://localhost:8080/"
        },
        "id": "bSOgYiyxbWgr",
        "outputId": "7b197468-8761-4873-91e8-766c326d4edc"
      },
      "execution_count": 9,
      "outputs": [
        {
          "output_type": "stream",
          "name": "stdout",
          "text": [
            "Nome\n",
            "Nome\n",
            "Nome\n",
            "Nome\n",
            "Achei a letra E\n"
          ]
        }
      ]
    }
  ]
}