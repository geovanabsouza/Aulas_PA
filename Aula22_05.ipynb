{
  "nbformat": 4,
  "nbformat_minor": 0,
  "metadata": {
    "colab": {
      "provenance": [],
      "authorship_tag": "ABX9TyMm+OFvG5NtCQEeNjxkQs7M",
      "include_colab_link": true
    },
    "kernelspec": {
      "name": "python3",
      "display_name": "Python 3"
    },
    "language_info": {
      "name": "python"
    }
  },
  "cells": [
    {
      "cell_type": "markdown",
      "metadata": {
        "id": "view-in-github",
        "colab_type": "text"
      },
      "source": [
        "<a href=\"https://colab.research.google.com/github/geovanabsouza/Aulas_PA/blob/main/Aula22_05.ipynb\" target=\"_parent\"><img src=\"https://colab.research.google.com/assets/colab-badge.svg\" alt=\"Open In Colab\"/></a>"
      ]
    },
    {
      "cell_type": "markdown",
      "source": [
        "Faca um contador de 1 até 10 com os laços de repetição for e while:"
      ],
      "metadata": {
        "id": "L542nOkJsyzY"
      }
    },
    {
      "cell_type": "code",
      "source": [
        "#for\n",
        "for i in range(1,11):\n",
        "  #print(i)\n",
        "  print(i,'',end='') # Mesma linha"
      ],
      "metadata": {
        "colab": {
          "base_uri": "https://localhost:8080/"
        },
        "id": "KT4gmdh3s9eN",
        "outputId": "ac73df29-5135-486c-954c-ddfc5fb4b008"
      },
      "execution_count": null,
      "outputs": [
        {
          "output_type": "stream",
          "name": "stdout",
          "text": [
            "1 2 3 4 5 6 7 8 9 10 "
          ]
        }
      ]
    },
    {
      "cell_type": "code",
      "source": [
        "#while\n",
        "i = 1\n",
        "while i < 11:\n",
        "  print(i)\n",
        "  i = i + 1"
      ],
      "metadata": {
        "colab": {
          "base_uri": "https://localhost:8080/"
        },
        "id": "B1uSMjCttg1q",
        "outputId": "c89dc171-755d-46d4-c0b5-468ef3a43d40"
      },
      "execution_count": null,
      "outputs": [
        {
          "output_type": "stream",
          "name": "stdout",
          "text": [
            "1\n",
            "2\n",
            "3\n",
            "4\n",
            "5\n",
            "6\n",
            "7\n",
            "8\n",
            "9\n",
            "10\n"
          ]
        }
      ]
    },
    {
      "cell_type": "markdown",
      "source": [
        "Faça o contador acima de 0 até 9 só que agora imprimindo as seguintes mensagens:\n",
        "Volta n°1 ==> 0\n",
        "Volta n°2 ==> 1\n",
        "Volta n°3 ==> 2\n",
        "...\n",
        "Volta n°9 ==> 10"
      ],
      "metadata": {
        "id": "bDQzdGQ8udgT"
      }
    },
    {
      "cell_type": "code",
      "source": [
        "for i in range(1, 11):\n",
        "  print(f'Volta n° {i}')"
      ],
      "metadata": {
        "colab": {
          "base_uri": "https://localhost:8080/"
        },
        "id": "__H6qWdcucDL",
        "outputId": "521582be-541f-4565-d2d2-a1a58131305e"
      },
      "execution_count": null,
      "outputs": [
        {
          "output_type": "stream",
          "name": "stdout",
          "text": [
            "Volta n° 1\n",
            "Volta n° 2\n",
            "Volta n° 3\n",
            "Volta n° 4\n",
            "Volta n° 5\n",
            "Volta n° 6\n",
            "Volta n° 7\n",
            "Volta n° 8\n",
            "Volta n° 9\n",
            "Volta n° 10\n"
          ]
        }
      ]
    },
    {
      "cell_type": "markdown",
      "source": [
        "Faça o contador acima de 0 até 9 só que agora imprimindo as seguintes mensagens:\n",
        "Volta n°1 ==> 0 PAR\n",
        "Volta n°2 ==> 1\n",
        "Volta n°3 ==> 2 PAR\n",
        "...\n",
        "Volta n°9 ==> 10\n"
      ],
      "metadata": {
        "id": "L5lv3e69vo95"
      }
    },
    {
      "cell_type": "code",
      "source": [
        "for i in range (1,11):\n",
        "  if ( i % 2 == 0):\n",
        "    print(f'Volta n° {i} ==> PAR')\n",
        "  else:\n",
        "    print(f'Volta n° {i}')"
      ],
      "metadata": {
        "colab": {
          "base_uri": "https://localhost:8080/"
        },
        "id": "5faEO7o9wjco",
        "outputId": "bdc5cd95-1fc3-4af2-d9ba-c0592dcb53be"
      },
      "execution_count": 11,
      "outputs": [
        {
          "output_type": "stream",
          "name": "stdout",
          "text": [
            "Volta n° 1\n",
            "Volta n° 2 ==> PAR\n",
            "Volta n° 3\n",
            "Volta n° 4 ==> PAR\n",
            "Volta n° 5\n",
            "Volta n° 6 ==> PAR\n",
            "Volta n° 7\n",
            "Volta n° 8 ==> PAR\n",
            "Volta n° 9\n",
            "Volta n° 10 ==> PAR\n"
          ]
        }
      ]
    },
    {
      "cell_type": "markdown",
      "source": [
        "Faça um programa que mostre a soma de 1 até 100:"
      ],
      "metadata": {
        "id": "RaaAWWyLxzbI"
      }
    },
    {
      "cell_type": "code",
      "source": [
        "soma = 0\n",
        "for i in range(1, 101):\n",
        "  soma += i\n",
        "print(f'Total {soma}')\n",
        "\n"
      ],
      "metadata": {
        "colab": {
          "base_uri": "https://localhost:8080/"
        },
        "id": "fGZsiqSEyHEJ",
        "outputId": "103f4c82-3f2a-44c9-b1d4-39ddf2370369"
      },
      "execution_count": 14,
      "outputs": [
        {
          "output_type": "stream",
          "name": "stdout",
          "text": [
            "Total 5050\n"
          ]
        }
      ]
    },
    {
      "cell_type": "markdown",
      "source": [
        "Faça um programa que receba um número inteiro digital pelo usuário e diga se o número é primo ou não:"
      ],
      "metadata": {
        "id": "1Y2dAnf6yyzH"
      }
    },
    {
      "cell_type": "code",
      "source": [
        "num = int(input(\"Digite um número inteiro: \"))\n",
        "quant = 0\n",
        "\n",
        "if (num < 0):\n",
        "  print(f'Número inválido, deve ser positivo.')\n",
        "else:\n",
        "  if (num == 0) or (num == 1):\n",
        "    print(f'Por defiição 0 e 1 não são números primos.')\n",
        "  else:\n",
        "    for i in range (1, num + 1):\n",
        "    #print(i)\n",
        "      resto = num % 1\n",
        "      print(f'Resto da divisão de {num} por {i} = {resto}')\n",
        "      if resto == 0:\n",
        "        quant += 1\n",
        "    print(f'Quantidade de restos igual a zero {quant}')\n",
        "    if (quant == 2):\n",
        "      print(f'O número {num} é primo')\n",
        "    else:\n",
        "      print(f'O número {num} não é primo.')"
      ],
      "metadata": {
        "colab": {
          "base_uri": "https://localhost:8080/"
        },
        "id": "BW_36Fd5zAv7",
        "outputId": "979f7ac3-3580-4977-d32d-d908991b9012"
      },
      "execution_count": 19,
      "outputs": [
        {
          "output_type": "stream",
          "name": "stdout",
          "text": [
            "Digite um número inteiro: 7\n",
            "Resto da divisão de 7 por 1 = 0\n",
            "Resto da divisão de 7 por 2 = 0\n",
            "Resto da divisão de 7 por 3 = 0\n",
            "Resto da divisão de 7 por 4 = 0\n",
            "Resto da divisão de 7 por 5 = 0\n",
            "Resto da divisão de 7 por 6 = 0\n",
            "Resto da divisão de 7 por 7 = 0\n",
            "Quantidade de restos igual a zero 7\n",
            "O número 7 não é primo.\n"
          ]
        }
      ]
    },
    {
      "cell_type": "markdown",
      "source": [
        "**FIBONACCI**"
      ],
      "metadata": {
        "id": "MUGT7Qtl2pA7"
      }
    },
    {
      "cell_type": "markdown",
      "source": [
        "Escreva um programa que imprima n-ésimo elemento de uma série de Fibonacci. Esse valor será digitado pelo usuário. Exemplo:\n",
        "\n",
        "numero = 4\n",
        "saída = 1 - 1 - 2 - 3 - 5\n",
        "numero = 5\n",
        "saida = 1 - 1 - 2 - 3 - 5 - 8"
      ],
      "metadata": {
        "id": "B71ZpH8V2tFT"
      }
    },
    {
      "cell_type": "code",
      "source": [
        "termo = int(input(\"Digite o termo que deseja atingir na sequência de Fibonacci: \"))\n",
        "a,b = 0,1\n",
        "for i in range (1, termo + 1): #usa\n",
        "  print(f'{i}° termo ==> {b}')\n",
        "  a,b=b, a+b"
      ],
      "metadata": {
        "colab": {
          "base_uri": "https://localhost:8080/"
        },
        "id": "ruW-oK-q3Vfy",
        "outputId": "a3dc11fb-2b03-4ef3-b014-a3c79b943e02"
      },
      "execution_count": 20,
      "outputs": [
        {
          "output_type": "stream",
          "name": "stdout",
          "text": [
            "Digite o termo que deseja atingir na sequência de Fibonacci: 10\n",
            "1° termo ==> 1\n",
            "2° termo ==> 1\n",
            "3° termo ==> 2\n",
            "4° termo ==> 3\n",
            "5° termo ==> 5\n",
            "6° termo ==> 8\n",
            "7° termo ==> 13\n",
            "8° termo ==> 21\n",
            "9° termo ==> 34\n",
            "10° termo ==> 55\n"
          ]
        }
      ]
    }
  ]
}