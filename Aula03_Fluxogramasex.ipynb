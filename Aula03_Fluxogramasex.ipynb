{
  "nbformat": 4,
  "nbformat_minor": 0,
  "metadata": {
    "colab": {
      "provenance": [],
      "authorship_tag": "ABX9TyOk5ckzY/4mhkWBNGVKAXDh",
      "include_colab_link": true
    },
    "kernelspec": {
      "name": "python3",
      "display_name": "Python 3"
    },
    "language_info": {
      "name": "python"
    }
  },
  "cells": [
    {
      "cell_type": "markdown",
      "metadata": {
        "id": "view-in-github",
        "colab_type": "text"
      },
      "source": [
        "<a href=\"https://colab.research.google.com/github/geovanabsouza/Aulas_PA/blob/main/Aula03_Fluxogramasex.ipynb\" target=\"_parent\"><img src=\"https://colab.research.google.com/assets/colab-badge.svg\" alt=\"Open In Colab\"/></a>"
      ]
    },
    {
      "cell_type": "markdown",
      "source": [
        "**INTRODUÇÃO** **Á** **LÓGICA** **DE** **PROGRAMAÇÃO**\n",
        "**Exercício** **1**\n"
      ],
      "metadata": {
        "id": "up31kwg4UUew"
      }
    },
    {
      "cell_type": "code",
      "execution_count": null,
      "metadata": {
        "colab": {
          "base_uri": "https://localhost:8080/"
        },
        "id": "o5nMDvpKQXga",
        "outputId": "c2c2b8e6-52a5-4f8d-df36-7dee832cb509"
      },
      "outputs": [
        {
          "output_type": "stream",
          "name": "stdout",
          "text": [
            "Digite o valor da peça: 4\n",
            "Digite a quantidade de peças: 3\n",
            "O total é de:  12\n"
          ]
        }
      ],
      "source": [
        "peca = int(input(\"Digite o valor da peça: \"))\n",
        "quant = int (input(\"Digite a quantidade de peças: \"))\n",
        "valor = quant * peca\n",
        "print(\"O total é de: \", valor)"
      ]
    },
    {
      "cell_type": "markdown",
      "source": [
        "**Exercício** **2**"
      ],
      "metadata": {
        "id": "K9pbkUsbUcmU"
      }
    },
    {
      "cell_type": "code",
      "source": [
        "quantmi = int (input(\"Digite a quantidade mínima: \"))\n",
        "quantma = int ( input(\"Digite a quantidade máxima: \"))\n",
        "estoquemedio = (quantmi + quantma)/2\n",
        "print (\"O estoque médio é de: \", estoquemedio)"
      ],
      "metadata": {
        "colab": {
          "base_uri": "https://localhost:8080/"
        },
        "id": "ejFHAlAXUhhN",
        "outputId": "d76e3519-4a5a-496c-fb4f-f39040e1bb19"
      },
      "execution_count": null,
      "outputs": [
        {
          "output_type": "stream",
          "name": "stdout",
          "text": [
            "Digite a quantidade mínima: 2\n",
            "Digite a quantidade máxima: 6\n",
            "O estoque médio é de:  4.0\n"
          ]
        }
      ]
    },
    {
      "cell_type": "markdown",
      "source": [
        "**DESENVOLVENDO** **ALGORITMOS**\n",
        "**Exercício** **1**"
      ],
      "metadata": {
        "id": "O8olSKfQYSaN"
      }
    },
    {
      "cell_type": "code",
      "source": [
        "valoremd = int(input(\"Digite o valor que quer converter em dólar: \"))\n",
        "dolar = int( input(\"Digite o valor atual do dólar: \"))\n",
        "convert = valoremd * dolar\n",
        "print(\"O valor convertido em dólar é de : \", convert)"
      ],
      "metadata": {
        "colab": {
          "base_uri": "https://localhost:8080/"
        },
        "id": "oG06bpVNYaqg",
        "outputId": "15046243-4ca5-4d2f-8a9c-f834297caf11"
      },
      "execution_count": null,
      "outputs": [
        {
          "output_type": "stream",
          "name": "stdout",
          "text": [
            "Digite o valor que quer converter em dólar: 2000\n",
            "Digite o valor atual do dólar: 5\n",
            "O valor convertido em dólar é de :  10000\n"
          ]
        }
      ]
    },
    {
      "cell_type": "markdown",
      "source": [
        "**Exercício** **2**"
      ],
      "metadata": {
        "id": "EM4sLCG7c7S4"
      }
    },
    {
      "cell_type": "code",
      "source": [
        "n1 = int(input(\" Digite o primeiro valor: \")) * 2\n",
        "n2 = int(input(\" Digite o segundo valor: \")) * 2\n",
        "n3 = int(input(\" Digite o terceiro valor: \")) * 2\n",
        "n4 = int(input(\" Digite o quarto valor: \")) * 2\n",
        "valor = n1 + n2 + n3 + n4\n",
        "print(\"O valor é de: \", valor)"
      ],
      "metadata": {
        "colab": {
          "base_uri": "https://localhost:8080/"
        },
        "id": "tF7p-rgRc9-1",
        "outputId": "ad59e365-44f9-4049-a0cd-b255a9188b64"
      },
      "execution_count": null,
      "outputs": [
        {
          "output_type": "stream",
          "name": "stdout",
          "text": [
            " Digite o primeiro valor: 2\n",
            " Digite o segundo valor: 4\n",
            " Digite o terceiro valor: 6\n",
            " Digite o quarto valor: 8\n",
            "O valor é de:  40\n"
          ]
        }
      ]
    },
    {
      "cell_type": "markdown",
      "source": [
        "**Exercício** **3**"
      ],
      "metadata": {
        "id": "4ObGneL3I7vb"
      }
    },
    {
      "cell_type": "code",
      "source": [
        "p = float(input(\" Digite o preço unitário da peça: \"))\n",
        "q = float(input(\" Digite a quantidade que foi vendida: \"))\n",
        "comi = p * q\n",
        "valor2 = comi * 0.05\n",
        "print(\" O total da sua venda foi de: \", comi)\n",
        "print(\" O valor da sua comissão é de : \", valor2)"
      ],
      "metadata": {
        "colab": {
          "base_uri": "https://localhost:8080/"
        },
        "id": "lJUgCmabI-zB",
        "outputId": "a1aaf8e5-a52e-4172-a342-edf526afcf2e"
      },
      "execution_count": null,
      "outputs": [
        {
          "output_type": "stream",
          "name": "stdout",
          "text": [
            " Digite o preço unitário da peça: 4\n",
            " Digite a quantidade que foi vendida: 150\n",
            " O total da sua venda foi de:  600.0\n",
            " O valor da sua comissão é de :  30.0\n"
          ]
        }
      ]
    },
    {
      "cell_type": "markdown",
      "source": [
        "**Exercício** **4**\n"
      ],
      "metadata": {
        "id": "q4G_O2vwl7LR"
      }
    },
    {
      "cell_type": "code",
      "source": [
        "f = float(input(\"Digite o custo de fábrica do carro: \"))\n",
        "i = 11.250\n",
        "f1 = f + i\n",
        "d = 10.150\n",
        "f2 = f1 + d\n",
        "print(\" O valor do custo do consumidor do carro será de: \", f2)"
      ],
      "metadata": {
        "colab": {
          "base_uri": "https://localhost:8080/"
        },
        "id": "t44o03TMl9xM",
        "outputId": "7d50d12b-ec1a-4279-ad2d-37e825ebc981"
      },
      "execution_count": null,
      "outputs": [
        {
          "output_type": "stream",
          "name": "stdout",
          "text": [
            "Digite o custo de fábrica do carro: 45.000\n",
            " O valor do custo do consumidor do carro será de:  66.4\n"
          ]
        }
      ]
    },
    {
      "cell_type": "markdown",
      "source": [
        "**Exercício** **5**"
      ],
      "metadata": {
        "id": "KfjYN33zEvo2"
      }
    },
    {
      "cell_type": "code",
      "source": [
        "h = int(input(\" Digite a hora: \"))\n",
        "m = int(input(\" Digite os minutos: \"))\n",
        "m1 = m / 60\n",
        "h1 = h + m1\n",
        "print(\" A coversão do horário em segundos será de: \", round(h1, 2))"
      ],
      "metadata": {
        "colab": {
          "base_uri": "https://localhost:8080/"
        },
        "id": "jwCillxts3g5",
        "outputId": "372895a3-293c-4803-85b7-02a3204180b5"
      },
      "execution_count": 24,
      "outputs": [
        {
          "output_type": "stream",
          "name": "stdout",
          "text": [
            " Digite a hora: 3\n",
            " Digite os minutos: 40\n",
            " A coversão do horário em segundos será de:  3.67\n"
          ]
        }
      ]
    },
    {
      "cell_type": "markdown",
      "source": [
        "**Exercício** **6**"
      ],
      "metadata": {
        "id": "zLywB33BuVtp"
      }
    },
    {
      "cell_type": "code",
      "source": [
        "h = float(input(\" Digite as horas trabalhadas: \"))\n",
        "m = float(input(\" Digite os minutos trabalhados: \"))\n",
        "g = float(input(\" Digite quanto ganha por hora: \"))\n",
        "tt = h + ( m / 60)\n",
        "sal = g * tt\n",
        "extra = sal * 0.70\n",
        "extra = sal + extra\n",
        "print(\" O seu ganho extra será de: \", extra)"
      ],
      "metadata": {
        "colab": {
          "base_uri": "https://localhost:8080/"
        },
        "id": "6_8uzaJVucQP",
        "outputId": "655ab9e8-bdf9-46ac-92a7-5298b51c5a15"
      },
      "execution_count": 22,
      "outputs": [
        {
          "output_type": "stream",
          "name": "stdout",
          "text": [
            " Digite as horas trabalhadas: 20\n",
            " Digite os minutos trabalhados: 00\n",
            " Digite quanto ganha por hora: 25\n",
            " O seu ganho extra será de:  850.0\n"
          ]
        }
      ]
    },
    {
      "cell_type": "markdown",
      "source": [
        "**Exercício** **7**"
      ],
      "metadata": {
        "id": "n92pdVRsucrg"
      }
    },
    {
      "cell_type": "code",
      "source": [
        "km = float(input(\" Digite quantos quilômetros você irá percorrer: \"))\n",
        "gas = float(input(\" Digite quantos litros seu carro consome por quilômetro : \"))\n",
        "precog = float(input(\" Digite o preço da gasolina local: \"))\n",
        "ql = km / gas\n",
        "ida2 = ql * precog\n",
        "vol = ida2 * 2\n",
        "print(\" O valor gasto em média para ir será de: \", ida2)\n",
        "print(\" O  valor gasto em média para voltar será de: \", vol)"
      ],
      "metadata": {
        "colab": {
          "base_uri": "https://localhost:8080/"
        },
        "id": "mkOYiDfzuhBO",
        "outputId": "c216a708-29ad-41c5-94a4-0d07ce074982"
      },
      "execution_count": 1,
      "outputs": [
        {
          "output_type": "stream",
          "name": "stdout",
          "text": [
            " Digite quantos quilômetros você irá percorrer: 450\n",
            " Digite quantos litros seu carro consome por quilômetro : 10\n",
            " Digite o preço da gasolina local: 4.5\n",
            " O valor gasto em média para ir será de:  202.5\n",
            " O  valor gasto em média para voltar será de:  405.0\n"
          ]
        }
      ]
    },
    {
      "cell_type": "markdown",
      "source": [
        "**Exercício** **8**\n"
      ],
      "metadata": {
        "id": "lkxHgC7zxDin"
      }
    },
    {
      "cell_type": "code",
      "source": [
        "# Coletando os valores para as variáveis de entrada\n",
        "s = float(input(\" Digite o percurso percorrido: \"))\n",
        "h = int(input(\" Digite a hora: \"))\n",
        "t = int(input(\" Digite o tempo gasto em minutos: \"))\n",
        "# Processamento\n",
        "tt = h + ( t / 60)\n",
        "vm = s / tt\n",
        "print(\" A sua velocidade média é de: \", round(vm, 2))"
      ],
      "metadata": {
        "colab": {
          "base_uri": "https://localhost:8080/"
        },
        "id": "n6O3ZedmxIfX",
        "outputId": "02577e0b-a24a-412f-f91c-07a7015cccf0"
      },
      "execution_count": 18,
      "outputs": [
        {
          "output_type": "stream",
          "name": "stdout",
          "text": [
            " Digite o percurso percorrido: 150\n",
            " Digite a hora: 1\n",
            " Digite o tempo gasto em minutos: 13\n",
            " A sua velocidade média é de:  123.29\n"
          ]
        }
      ]
    },
    {
      "cell_type": "code",
      "source": [
        "numero = 3.3654762357645\n",
        "resultado = round(numero, 2)\n",
        "print(resultado)"
      ],
      "metadata": {
        "colab": {
          "base_uri": "https://localhost:8080/"
        },
        "id": "O9u84MAQJ4a3",
        "outputId": "e38d46fe-40eb-402e-9345-317423d5656d"
      },
      "execution_count": 16,
      "outputs": [
        {
          "output_type": "stream",
          "name": "stdout",
          "text": [
            "3.37\n"
          ]
        }
      ]
    }
  ]
}