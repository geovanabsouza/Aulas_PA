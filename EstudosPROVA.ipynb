{
  "nbformat": 4,
  "nbformat_minor": 0,
  "metadata": {
    "colab": {
      "provenance": [],
      "authorship_tag": "ABX9TyMGPGNPcjatKqbaO21A5cyJ",
      "include_colab_link": true
    },
    "kernelspec": {
      "name": "python3",
      "display_name": "Python 3"
    },
    "language_info": {
      "name": "python"
    }
  },
  "cells": [
    {
      "cell_type": "markdown",
      "metadata": {
        "id": "view-in-github",
        "colab_type": "text"
      },
      "source": [
        "<a href=\"https://colab.research.google.com/github/geovanabsouza/Aulas_PA/blob/main/EstudosPROVA.ipynb\" target=\"_parent\"><img src=\"https://colab.research.google.com/assets/colab-badge.svg\" alt=\"Open In Colab\"/></a>"
      ]
    },
    {
      "cell_type": "markdown",
      "source": [
        "**EXERCÍCIOS DE LAÇOS DE REPETIÇÃO**"
      ],
      "metadata": {
        "id": "H5SnThSICo-H"
      }
    },
    {
      "cell_type": "markdown",
      "source": [
        "Faça um programa que peça uma nota, entre zero e dez. Mostre uma mensagem caso o valor seja inválido e continue pedindo até que o usuário informe um valor válido.\n"
      ],
      "metadata": {
        "id": "RX1NkzFe97I1"
      }
    },
    {
      "cell_type": "code",
      "source": [
        "nota = float(input(\"Digite um valor: \"))\n",
        "\n",
        "while (nota < 0) or (nota > 10):\n",
        "  nota = float(input(\"Digite um valor: \"))\n",
        "print(f'Valor válido.')\n",
        "\n"
      ],
      "metadata": {
        "colab": {
          "base_uri": "https://localhost:8080/"
        },
        "id": "c7vA76fH9-li",
        "outputId": "75c98a14-d8bf-460c-ff91-12d58eb9b308"
      },
      "execution_count": 41,
      "outputs": [
        {
          "output_type": "stream",
          "name": "stdout",
          "text": [
            "Digite um valor: 2\n",
            "Valor inválido. Tente novamente.\n"
          ]
        }
      ]
    },
    {
      "cell_type": "markdown",
      "source": [
        "Faça um programa que leia um nome de usuário e a sua senha e não aceite a senha igual ao nome do usuário, mostrando uma mensagem de erro e voltando a pedir as informações."
      ],
      "metadata": {
        "id": "CoFhKuc2BCFM"
      }
    },
    {
      "cell_type": "code",
      "source": [
        "usuario = \"thais\"\n",
        "senha = \"1988\"\n",
        "\n",
        "usuario = input(\"Digite seu usuário: \")\n",
        "senha = input(\"Digite sua senha: \")\n",
        "\n",
        "while (senha == usuario):\n",
        "  print(f'Usuário e/ ou senha incorretos.')\n",
        "  usuario = str(input(\"Digite seu usuário: \"))\n",
        "  senha = float(input(\"Digite sua senha: \"))\n",
        "print(f'Usuário e senha corretos.')"
      ],
      "metadata": {
        "colab": {
          "base_uri": "https://localhost:8080/"
        },
        "id": "QmkzP9fyBCvc",
        "outputId": "e569c620-3e0e-49f3-c2f4-027473acc366"
      },
      "execution_count": 45,
      "outputs": [
        {
          "output_type": "stream",
          "name": "stdout",
          "text": [
            "Digite seu usuário: thais\n",
            "Digite sua senha: thais\n",
            "Usuário e/ ou senha incorretos.\n",
            "Digite seu usuário: thais\n",
            "Digite sua senha: 1988\n",
            "Usuário e senha corretos.\n"
          ]
        }
      ]
    },
    {
      "cell_type": "markdown",
      "source": [
        "Faça um programa que calcule o valor total investido por um colecionador em sua coleção de CDs e o valor médio gasto em cada um deles. O usuário deverá informar a quantidade de CDs e o valor para em cada um."
      ],
      "metadata": {
        "id": "WpptK6RYCms2"
      }
    },
    {
      "cell_type": "code",
      "source": [
        "valor = int(input(\"Digite o valor de cada cd: \"))\n",
        "quant = int(input(\"Digite a quantidade de cd: \"))\n",
        "\n",
        "for i in range (1, quant + 1):\n",
        "  valortotal = i * valor\n",
        "  print(f'O valor médio gasto em cd foi de {valor}')\n",
        "print(f'O valor total foi de {valortotal}')\n"
      ],
      "metadata": {
        "colab": {
          "base_uri": "https://localhost:8080/"
        },
        "id": "FCBDi9vBCndD",
        "outputId": "622f299b-5807-46e8-de8e-5795bd91033e"
      },
      "execution_count": 52,
      "outputs": [
        {
          "output_type": "stream",
          "name": "stdout",
          "text": [
            "Digite o valor de cada cd: 2\n",
            "Digite a quantidade de cd: 3\n",
            "O valor médio gasto em cd foi de 2\n",
            "O valor médio gasto em cd foi de 2\n",
            "O valor médio gasto em cd foi de 2\n",
            "O valor total foi de 6\n"
          ]
        }
      ]
    },
    {
      "cell_type": "markdown",
      "source": [
        "Desenvolva um gerador de tabuada, capaz de gerar a tabuada de qualquer número inteiro entre 1 a 10. O usuário deve informar de qual numero ele deseja ver a tabuada. A saída deve ser conforme o exemplo abaixo:\n",
        "Tabuada de 5:\n",
        "5 X 1 = 5\n",
        "5 X 2 = 10\n",
        "...\n",
        "5 X 10 = 50"
      ],
      "metadata": {
        "id": "8JymjozWJc7l"
      }
    },
    {
      "cell_type": "code",
      "source": [
        "\n",
        "\n",
        "tabuada = int(input(\"Digite o número da tabuada que deseja: \"))\n",
        "for i in range(1, 11):\n",
        "  multiplicador = tabuada * i\n",
        "  print(multiplicador)\n"
      ],
      "metadata": {
        "colab": {
          "base_uri": "https://localhost:8080/"
        },
        "id": "2OQoiYf7JdcB",
        "outputId": "f37b8edc-80fe-4d6b-d99b-c7ebc301bd85"
      },
      "execution_count": 65,
      "outputs": [
        {
          "output_type": "stream",
          "name": "stdout",
          "text": [
            "Digite o número da tabuada que deseja: 2\n",
            "2\n",
            "4\n",
            "6\n",
            "8\n",
            "10\n",
            "12\n",
            "14\n",
            "16\n",
            "18\n",
            "20\n"
          ]
        }
      ]
    },
    {
      "cell_type": "markdown",
      "source": [
        "**FIBONACCI**"
      ],
      "metadata": {
        "id": "K8EP2StgHt_J"
      }
    },
    {
      "cell_type": "code",
      "source": [
        "termo = int(input(\"Digite um termo que deseja calcular na sequência de Fibonacci: \"))\n",
        "\n",
        "a, b = 0, 1\n",
        "for i in range (1, termo + 1):\n",
        "  print(f'{i}° termo para {b}')\n",
        "  a, b = b, a + b"
      ],
      "metadata": {
        "colab": {
          "base_uri": "https://localhost:8080/"
        },
        "id": "bndVoRgHHz8t",
        "outputId": "ff67cdc0-fcc6-4763-e97f-cad7a10c38e9"
      },
      "execution_count": 55,
      "outputs": [
        {
          "output_type": "stream",
          "name": "stdout",
          "text": [
            "Digite um termo que deseja calcular na sequência de Fibonacci: 7\n",
            "1° termo para 1\n",
            "2° termo para 1\n",
            "3° termo para 2\n",
            "4° termo para 3\n",
            "5° termo para 5\n",
            "6° termo para 8\n",
            "7° termo para 13\n"
          ]
        }
      ]
    },
    {
      "cell_type": "markdown",
      "source": [
        "**OPERADORES LÓGICOS**"
      ],
      "metadata": {
        "id": "AMQyIsONLHAe"
      }
    },
    {
      "cell_type": "markdown",
      "source": [
        "Faça um programa, utilizando os operadores lógicos, que:\n",
        "\n",
        "Pergunte ao usuário se ele está com fome e tem dinheiro\n",
        "Apenas nos casos em que o usuário esteja com fome e possua dinheiro, indique um local que venda comida\n",
        "Mostre na tela uma mensagem, de sua escolha, quando ele não estiver com fome ou não possuir dinheiro"
      ],
      "metadata": {
        "id": "MGn9MR2iLLqq"
      }
    },
    {
      "cell_type": "code",
      "source": [
        "fome = float(input(\"Você está com fome? Digite '1' para Sim e '2' para Não: \"))\n",
        "\n",
        "if fome == 1:\n",
        "  dinheiro = float(input(\"Você tem dinheiro? Digite '1' para Sim e '2' para Não: \"))\n",
        "  if dinheiro == 1:\n",
        "    print(f'Vá até o café Las Vegas, a comida é barata e boa.')\n",
        "  elif dinheiro == 2:\n",
        "    print(f'Venha, vou te pagar uma comida.')\n",
        "else:\n",
        "  print('Tudo bem, se souber de alguém que está passando fome me avise.')\n",
        "print(f'Fim do programa.')"
      ],
      "metadata": {
        "colab": {
          "base_uri": "https://localhost:8080/"
        },
        "id": "ajkzrKGsLPkp",
        "outputId": "080681c0-d7a7-4cd1-fe96-d1564a022410"
      },
      "execution_count": 75,
      "outputs": [
        {
          "output_type": "stream",
          "name": "stdout",
          "text": [
            "Você está com fome? Digite '1' para Sim e '2' para Não: 2\n",
            "Tudo bem, se souber de alguém que está passando fome me avise.\n",
            "Fim do programa.\n"
          ]
        }
      ]
    },
    {
      "cell_type": "markdown",
      "source": [
        "Faça um programa, utilizando os operadores lógicos, que:\n",
        "\n",
        "Peça para o usuário inserir o nome de três produtos de mercado e seus, respectivos, preços\n",
        "Mostre na tela o produto mais barato"
      ],
      "metadata": {
        "id": "0H7ruJKtNOYR"
      }
    },
    {
      "cell_type": "code",
      "source": [
        "p1 = input(\"Digite o nome do primeiro produto: \")\n",
        "p2 = input(\"Digite o nome do segundo produto: \")\n",
        "p3 = input(\"Digite o nome do terceiro produto: \")\n",
        "\n",
        "v1 = float(input(\"Digite o valor do primeiro produto: \"))\n",
        "v2 = float(input(\"Digite o valor do segundo produto: \"))\n",
        "v3 = float(input(\"Digite o valor do terceiro produto: \"))\n",
        "\n",
        "if (v1 < v2 < v3):\n",
        "  print(f'O produto mais barato é {p1} custando {v1} reais')\n",
        "else:\n",
        "  print(f'O produto mais barato é {p3} custando {v3} reais')\n",
        "if(v2 < v1 < v3):\n",
        "  print(f'O produto mais barato é {p2} custando {v2} reais')\n"
      ],
      "metadata": {
        "colab": {
          "base_uri": "https://localhost:8080/"
        },
        "id": "OWhpyIzwNPLv",
        "outputId": "47c52c7a-ca64-4245-d813-bf5877bf6660"
      },
      "execution_count": 89,
      "outputs": [
        {
          "output_type": "stream",
          "name": "stdout",
          "text": [
            "Digite o nome do primeiro produto: a\n",
            "Digite o nome do segundo produto: b\n",
            "Digite o nome do terceiro produto: c\n",
            "Digite o valor do primeiro produto: 3\n",
            "Digite o valor do segundo produto: 4\n",
            "Digite o valor do terceiro produto: 2\n",
            "O produto mais barato é c custando 2.0 reais\n"
          ]
        }
      ]
    }
  ]
}